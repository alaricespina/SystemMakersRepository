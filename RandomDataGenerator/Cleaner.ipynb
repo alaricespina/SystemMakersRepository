{
 "cells": [
  {
   "cell_type": "code",
   "execution_count": null,
   "metadata": {},
   "outputs": [],
   "source": [
    "import pandas as pd\n",
    "output_file_name = \"RandomEmployeeData.csv\"\n",
    "female_names_file = \"FemaleNames.csv\"\n",
    "male_names_file = \"MaleNames.csv\"\n",
    "positions_file = \"Positions.csv\"\n",
    "surnames_file = \"Surnames.csv\"\n",
    "\n",
    "female_names = pd.read_csv(female_names_file)\n",
    "male_names = pd.read_csv(male_names_file)\n",
    "positions = pd.read_csv(positions_file)\n",
    "surnames = pd.read_csv(surnames_file)  "
   ]
  }
 ],
 "metadata": {
  "kernelspec": {
   "display_name": "Python 3.10.0 64-bit",
   "language": "python",
   "name": "python3"
  },
  "language_info": {
   "name": "python",
   "version": "3.10.0"
  },
  "orig_nbformat": 4,
  "vscode": {
   "interpreter": {
    "hash": "284023ca2f5758cc35a7c2ed4364af929cf45b33beebbd84d3dd04f9d95d8c51"
   }
  }
 },
 "nbformat": 4,
 "nbformat_minor": 2
}
