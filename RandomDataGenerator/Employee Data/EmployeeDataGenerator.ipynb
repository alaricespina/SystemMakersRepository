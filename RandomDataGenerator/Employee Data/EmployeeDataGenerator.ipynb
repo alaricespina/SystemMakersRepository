{
 "cells": [
  {
   "cell_type": "code",
   "execution_count": 15,
   "metadata": {},
   "outputs": [],
   "source": [
    "import pandas as pd\n",
    "from random import choice \n",
    "from random import randint \n",
    "import os"
   ]
  },
  {
   "cell_type": "code",
   "execution_count": 16,
   "metadata": {},
   "outputs": [],
   "source": [
    "female_names_df = pd.read_csv(\"FemaleNames.csv\")\n",
    "male_names_df = pd.read_csv(\"MaleNames.csv\")\n",
    "positions_df = pd.read_csv(\"Positions.csv\")\n",
    "surnames_df = pd.read_csv(\"Surnames.csv\")"
   ]
  },
  {
   "cell_type": "code",
   "execution_count": 17,
   "metadata": {},
   "outputs": [],
   "source": [
    "NUMBER_OF_ROWS_TO_BE_GENERATED = 100_000\n",
    "SAVE_FILE_NAME = f\"Generated_Dataset_{NUMBER_OF_ROWS_TO_BE_GENERATED}.csv\"\n",
    "WRITE_FILE = True\n",
    "UNIQUE_SALARY = False # Will make sure that all of the salaries in the rows would be unique\n",
    "MAX_SALARY = 1_000_000\n",
    "MIN_SALARY = 100_000\n",
    "SALARY_STEP = 10_000"
   ]
  },
  {
   "cell_type": "code",
   "execution_count": 18,
   "metadata": {},
   "outputs": [],
   "source": [
    "fn_list = female_names_df[\"Name\"].values.tolist()\n",
    "mn_list = male_names_df[\"Name\"].values.tolist()\n",
    "pos_list = positions_df[\"Position\"].values.tolist()\n",
    "sur_list = surnames_df[\"Surname\"].values.tolist()\n",
    "gender = [\"Male\", \"Female\"]"
   ]
  },
  {
   "cell_type": "code",
   "execution_count": 19,
   "metadata": {},
   "outputs": [],
   "source": [
    "fn_list = [x.title() for x in fn_list]\n",
    "mn_list = [x.title() for x in mn_list]\n",
    "pos_list = [x.upper() for x in pos_list]\n",
    "sur_list = [x.title() for x in sur_list]\n",
    "gender = [x.title() for x in gender]"
   ]
  },
  {
   "cell_type": "code",
   "execution_count": 20,
   "metadata": {},
   "outputs": [],
   "source": [
    "salary_list = []\n",
    "counter = 0\n",
    "for _ in range(NUMBER_OF_ROWS_TO_BE_GENERATED):\n",
    "    if UNIQUE_SALARY:\n",
    "        while True:\n",
    "            sal = randint(MIN_SALARY, MAX_SALARY, SALARY_STEP)\n",
    "            print(f\"{counter} {sal}\")\n",
    "            if sal not in salary_list:\n",
    "                salary_list.append(sal)\n",
    "                break \n",
    "    else:        \n",
    "        sal = randint(MIN_SALARY / SALARY_STEP , MAX_SALARY / SALARY_STEP) * SALARY_STEP\n",
    "        salary_list.append(sal)\n",
    "\n",
    "    counter += 1"
   ]
  },
  {
   "cell_type": "code",
   "execution_count": 21,
   "metadata": {},
   "outputs": [],
   "source": [
    "dataset = {\n",
    "    \"First Name\" : [],\n",
    "    \"Last Name\" : [],\n",
    "    \"Positions\" : [],\n",
    "    \"Gender\" : [],\n",
    "    \"Salary\" : salary_list\n",
    "}\n",
    "\n",
    "for _ in range(NUMBER_OF_ROWS_TO_BE_GENERATED):\n",
    "    if (randint(0, 1) == 0):\n",
    "        dataset[\"Gender\"].append(gender[0])\n",
    "        dataset[\"First Name\"].append(choice(mn_list))\n",
    "    else:\n",
    "        dataset[\"Gender\"].append(gender[1])\n",
    "        dataset[\"First Name\"].append(choice(fn_list))\n",
    "\n",
    "    dataset[\"Positions\"].append(choice(pos_list))\n",
    "    dataset[\"Last Name\"].append(choice(sur_list))\n",
    "    "
   ]
  },
  {
   "cell_type": "code",
   "execution_count": 22,
   "metadata": {},
   "outputs": [
    {
     "name": "stdout",
     "output_type": "stream",
     "text": [
      "First Name : 100000\n",
      "Last Name : 100000\n",
      "Positions : 100000\n",
      "Gender : 100000\n",
      "Salary : 100000\n"
     ]
    }
   ],
   "source": [
    "for x in dataset:\n",
    "    print(f\"{x} : {len(dataset[x])}\")"
   ]
  },
  {
   "cell_type": "code",
   "execution_count": 23,
   "metadata": {},
   "outputs": [
    {
     "data": {
      "text/html": [
       "<div>\n",
       "<style scoped>\n",
       "    .dataframe tbody tr th:only-of-type {\n",
       "        vertical-align: middle;\n",
       "    }\n",
       "\n",
       "    .dataframe tbody tr th {\n",
       "        vertical-align: top;\n",
       "    }\n",
       "\n",
       "    .dataframe thead th {\n",
       "        text-align: right;\n",
       "    }\n",
       "</style>\n",
       "<table border=\"1\" class=\"dataframe\">\n",
       "  <thead>\n",
       "    <tr style=\"text-align: right;\">\n",
       "      <th></th>\n",
       "      <th>First Name</th>\n",
       "      <th>Last Name</th>\n",
       "      <th>Positions</th>\n",
       "      <th>Gender</th>\n",
       "      <th>Salary</th>\n",
       "    </tr>\n",
       "  </thead>\n",
       "  <tbody>\n",
       "    <tr>\n",
       "      <th>0</th>\n",
       "      <td>Angeline</td>\n",
       "      <td>Caballero</td>\n",
       "      <td>FINANCE MANAGER</td>\n",
       "      <td>Female</td>\n",
       "      <td>920000</td>\n",
       "    </tr>\n",
       "    <tr>\n",
       "      <th>1</th>\n",
       "      <td>Christine</td>\n",
       "      <td>Dela Cruz</td>\n",
       "      <td>CHIEF EXECUTIVE OFFICER (CEO)</td>\n",
       "      <td>Female</td>\n",
       "      <td>120000</td>\n",
       "    </tr>\n",
       "    <tr>\n",
       "      <th>2</th>\n",
       "      <td>Janelle</td>\n",
       "      <td>Soberano</td>\n",
       "      <td>ADMINISTRATIVE ASSISTANT</td>\n",
       "      <td>Female</td>\n",
       "      <td>100000</td>\n",
       "    </tr>\n",
       "    <tr>\n",
       "      <th>3</th>\n",
       "      <td>Kyla</td>\n",
       "      <td>Juan</td>\n",
       "      <td>CHIEF MARKETING OFFICER (CMO)</td>\n",
       "      <td>Female</td>\n",
       "      <td>800000</td>\n",
       "    </tr>\n",
       "    <tr>\n",
       "      <th>4</th>\n",
       "      <td>John Lloyd</td>\n",
       "      <td>Alarcon</td>\n",
       "      <td>SALES REPRESENTATIVE</td>\n",
       "      <td>Male</td>\n",
       "      <td>330000</td>\n",
       "    </tr>\n",
       "  </tbody>\n",
       "</table>\n",
       "</div>"
      ],
      "text/plain": [
       "   First Name  Last Name                      Positions  Gender  Salary\n",
       "0    Angeline  Caballero                FINANCE MANAGER  Female  920000\n",
       "1   Christine  Dela Cruz  CHIEF EXECUTIVE OFFICER (CEO)  Female  120000\n",
       "2     Janelle   Soberano       ADMINISTRATIVE ASSISTANT  Female  100000\n",
       "3        Kyla       Juan  CHIEF MARKETING OFFICER (CMO)  Female  800000\n",
       "4  John Lloyd    Alarcon           SALES REPRESENTATIVE    Male  330000"
      ]
     },
     "execution_count": 23,
     "metadata": {},
     "output_type": "execute_result"
    }
   ],
   "source": [
    "output_df = pd.DataFrame(dataset)\n",
    "output_df.head()"
   ]
  },
  {
   "cell_type": "code",
   "execution_count": 24,
   "metadata": {},
   "outputs": [],
   "source": [
    "output_df.to_csv(SAVE_FILE_NAME)"
   ]
  }
 ],
 "metadata": {
  "kernelspec": {
   "display_name": "Python 3.9.2 64-bit",
   "language": "python",
   "name": "python3"
  },
  "language_info": {
   "codemirror_mode": {
    "name": "ipython",
    "version": 3
   },
   "file_extension": ".py",
   "mimetype": "text/x-python",
   "name": "python",
   "nbconvert_exporter": "python",
   "pygments_lexer": "ipython3",
   "version": "3.9.2"
  },
  "orig_nbformat": 4,
  "vscode": {
   "interpreter": {
    "hash": "2966a61383ff9c7e136d2cab556bc1d3f7015bf83f9afddc1a15537aae5f0f0f"
   }
  }
 },
 "nbformat": 4,
 "nbformat_minor": 2
}
